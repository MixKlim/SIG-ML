{
 "cells": [
  {
   "cell_type": "markdown",
   "metadata": {
    "deletable": true,
    "editable": true
   },
   "source": [
    "# Praktisch Use Case\n",
    "\n",
    "## Het doel: voorspellen of een mammogrammassa goedaardig of kwaadaardig is\n",
    "\n",
    "We gaan de openbare dataset 'mammografische massa' uit de [UCI repository](https://archive.ics.uci.edu/ml/datasets/Mammographic+Mass) gebruiken.\n",
    "\n",
    "De dataset bevat 961 gevallen van massa's gedetecteerd in mammogrammen met de volgende features:\n",
    "\n",
    "    1. BI_RADS: BI-RADS beoordeling: 1 tot 5 (ordinaal)\n",
    "    2. Age: leeftijd van de patiënt in jaren (geheel getal)\n",
    "    3. Shape: massa vorm: rond = 1 ovaal = 2 lobulair = 3 onregelmatig = 4 (nominaal)\n",
    "    4. Margin: massamarge: omschreven = 1 microlobulated = 2 verduisterd = 3 ziek-gedefinieerd = 4 spiculated = 5 (nominaal)\n",
    "    5. Density: massadichtheid hoog = 1 iso = 2 laag = 3 vetbevattend = 4 (ordinaal)\n",
    "    6. Severity: goedaardig = 0 of kwaadaardig = 1 (binominaal)\n",
    "   \n",
    "BI-RADS is een beoordeling van hoe zeker de ernstclassificatie is; het is geen \"voorspellend\" attribuut en daarom zullen we het weggooien. De features van leeftijd, vorm, marge en dichtheid zijn de features waarmee we ons model zullen bouwen, en \"ernst\" is de classificatie die we zullen proberen te voorspellen op basis van die features.\n",
    "\n",
    "Hoewel \"vorm\" en \"marge\" nominale gegevenstypen zijn, waarmee _scikit-learn_ normaal gesproken niet goed omgaat, ze liggen dicht genoeg bij de ordinale gegevenstypen dat we ze niet zomaar moeten weggooien. De \"vorm\" wordt bijvoorbeeld steeds vaker geordend van rond naar onregelmatig.\n",
    "\n",
    "Veel onnodige operaties komen voort uit false positives die voortkomen uit mammogramresultaten. Als we een betere manier kunnen bedenken om ze te interpreteren door middel van supervised machine learning, kan dat veel levens verbeteren.\n",
    "\n",
    "## Jouw opdracht\n",
    "\n",
    "Pas verschillende supervised machine learning technieken toe op deze dataset en kijk welke de hoogste nauwkeurigheid oplevert zoals gemeten met K-Fold cross validation (K = 10). Pas de volgende technieken toe:\n",
    "\n",
    "* Decision tree\n",
    "* Random forest\n",
    "* KNN\n",
    "* Naive Bayes\n",
    "* SVM\n",
    "* Logistic Regression\n",
    "\n",
    "De data moet eerst worden opgeschoond; veel rijen bevatten ontbrekende gegevens en er kunnen ook foutieve gegevens zijn die als outliers kunnen worden geïdentificeerd.\n",
    "\n",
    "Sommige technieken, zoals SVM, ook vereisen dat de invoergegevens eerst worden genormaliseerd.\n",
    "\n",
    "Veel technieken hebben ook \"hyperparameters\" die getuned moeten worden. Als je een veelbelovende model hebt vastgesteld, kijk dan of je dat nog beter kunt maken door het tunen van de hyperparameters.\n",
    "\n",
    "Ik was in staat om meer dan 80% nauwkeurigheid te bereiken - kun je dat verslaan?\n",
    "\n",
    "Hieronder heb ik een schets gemaakt van een notebook voor dit project, met wat begeleiding en hints. Als je zin hebt in een echte uitdaging, probeer dit project dan helemaal opnieuw te doen in een nieuw, schoon notebook!"
   ]
  },
  {
   "cell_type": "markdown",
   "metadata": {
    "deletable": true,
    "editable": true
   },
   "source": [
    "## Laten we beginnen: bereid je gegevens voor\n",
    "\n",
    "Begin met het importeren van het bestand `mammographic_masses.data.txt` vanuit `data` map in een _pandas_ dataframe (hint: gebruik `read_csv`) en bekijk het dataframe."
   ]
  },
  {
   "cell_type": "code",
   "execution_count": null,
   "metadata": {
    "collapsed": false,
    "deletable": true,
    "editable": true,
    "jupyter": {
     "outputs_hidden": false
    }
   },
   "outputs": [],
   "source": []
  },
  {
   "cell_type": "markdown",
   "metadata": {
    "deletable": true,
    "editable": true
   },
   "source": [
    "Zorg ervoor dat je de optionele parameters in _read_csv_ gebruikt om ontbrekende gegevens (aangegeven met een \"?\") om naar \"NaN\" te zetten, en om de juiste kolomnamen toe te voegen (BI_RADS, age, shape, margin, density, en severity):"
   ]
  },
  {
   "cell_type": "code",
   "execution_count": null,
   "metadata": {
    "collapsed": false,
    "deletable": true,
    "editable": true,
    "jupyter": {
     "outputs_hidden": false
    }
   },
   "outputs": [],
   "source": []
  },
  {
   "cell_type": "markdown",
   "metadata": {
    "deletable": true,
    "editable": true
   },
   "source": [
    "Evalueer of de gegevens moeten worden opgeschoond; jouw model is zo goed als de data die je evalueert. Hint: gebruik `describe()` op het dataframe."
   ]
  },
  {
   "cell_type": "code",
   "execution_count": null,
   "metadata": {
    "collapsed": false,
    "deletable": true,
    "editable": true,
    "jupyter": {
     "outputs_hidden": false
    }
   },
   "outputs": [],
   "source": []
  },
  {
   "cell_type": "markdown",
   "metadata": {
    "deletable": true,
    "editable": true
   },
   "source": [
    "Er zijn nogal wat ontbrekende waarden in de dataset. Voordat we elke rij waarin gegevens ontbreken laten vallen, moeten we ervoor zorgen dat we onze gegevens daarbij niet beïnvloeden. Lijkt er een correlatie te bestaan met wat voor soort gegevens velden missen? Als dat het geval was, zouden we moeten proberen stap terug te gaan en die gegevens in te vullen."
   ]
  },
  {
   "cell_type": "code",
   "execution_count": null,
   "metadata": {
    "collapsed": false,
    "deletable": true,
    "editable": true,
    "jupyter": {
     "outputs_hidden": false
    }
   },
   "outputs": [],
   "source": []
  },
  {
   "cell_type": "markdown",
   "metadata": {
    "deletable": true,
    "editable": true
   },
   "source": [
    "Als de ontbrekende gegevens willekeurig verdeeld lijken, ga door en laat je rijen met ontbrekende gegevens vallen. Hint: gebruik `dropna()`."
   ]
  },
  {
   "cell_type": "code",
   "execution_count": null,
   "metadata": {
    "collapsed": false,
    "deletable": true,
    "editable": true,
    "jupyter": {
     "outputs_hidden": false
    }
   },
   "outputs": [],
   "source": []
  },
  {
   "cell_type": "markdown",
   "metadata": {
    "deletable": true,
    "editable": true
   },
   "source": [
    "Vervolgens moet je de _pandas_ dataframes converteren naar _numpy_ arrays die kunnen worden gebruikt door _scikit-learn_. Maak een array die alleen de objectgegevens extraheert waarmee we willen werken (age, shape, margin, en density) en een andere array die de klassen bevat (severity). <br> \n",
    "Je hebt ook een reeks naamlabels nodig."
   ]
  },
  {
   "cell_type": "code",
   "execution_count": null,
   "metadata": {
    "collapsed": false,
    "deletable": true,
    "editable": true,
    "jupyter": {
     "outputs_hidden": false
    }
   },
   "outputs": [],
   "source": []
  },
  {
   "cell_type": "markdown",
   "metadata": {
    "deletable": true,
    "editable": true
   },
   "source": [
    "Sommige van de modellen vereisen dat de invoergegevens worden genormaliseerd, dus ga door en normaliseer de attribuutgegevens. <br>\n",
    "Hint: gebruik `preprocessing.StandardScaler()`."
   ]
  },
  {
   "cell_type": "code",
   "execution_count": null,
   "metadata": {
    "collapsed": false,
    "deletable": true,
    "editable": true,
    "jupyter": {
     "outputs_hidden": false
    }
   },
   "outputs": [],
   "source": []
  },
  {
   "cell_type": "markdown",
   "metadata": {
    "deletable": true,
    "editable": true
   },
   "source": [
    "## Decision Trees\n",
    "\n",
    "Voordat we naar K-Fold cross validation en random forests gaan, maak van een train / test-splitsing van de dataset. <br>\n",
    "Reserveer 75% voor het trainen en 25% voor het testen."
   ]
  },
  {
   "cell_type": "code",
   "execution_count": null,
   "metadata": {
    "collapsed": false,
    "deletable": true,
    "editable": true,
    "jupyter": {
     "outputs_hidden": false
    }
   },
   "outputs": [],
   "source": []
  },
  {
   "cell_type": "markdown",
   "metadata": {
    "deletable": true,
    "editable": true
   },
   "source": [
    "Maak nu een `DecisionTreeClassifier` aan en pas deze aan uw trainingsgegevens aan."
   ]
  },
  {
   "cell_type": "code",
   "execution_count": null,
   "metadata": {
    "collapsed": false,
    "deletable": true,
    "editable": true,
    "jupyter": {
     "outputs_hidden": false
    }
   },
   "outputs": [],
   "source": []
  },
  {
   "cell_type": "markdown",
   "metadata": {
    "deletable": true,
    "editable": true
   },
   "source": [
    "Toon de resulterende decision tree."
   ]
  },
  {
   "cell_type": "code",
   "execution_count": null,
   "metadata": {
    "collapsed": false,
    "deletable": true,
    "editable": true,
    "jupyter": {
     "outputs_hidden": false
    }
   },
   "outputs": [],
   "source": []
  },
  {
   "cell_type": "markdown",
   "metadata": {
    "deletable": true,
    "editable": true
   },
   "source": [
    "Meet de nauwkeurigheid van het resulterende decision tree met behulp van je testgegevens."
   ]
  },
  {
   "cell_type": "code",
   "execution_count": null,
   "metadata": {
    "collapsed": false,
    "deletable": true,
    "editable": true,
    "jupyter": {
     "outputs_hidden": false
    }
   },
   "outputs": [],
   "source": []
  },
  {
   "cell_type": "markdown",
   "metadata": {
    "deletable": true,
    "editable": true
   },
   "source": [
    "Gebruik nu in plaats van een enkele trein / test-splitsing K-Fold cross validation om de nauwkeurigheid van je model beter te meten (K = 10). <br> \n",
    "Hint: gebruik `model_selection.cross_val_score`"
   ]
  },
  {
   "cell_type": "code",
   "execution_count": null,
   "metadata": {
    "collapsed": false,
    "deletable": true,
    "editable": true,
    "jupyter": {
     "outputs_hidden": false
    }
   },
   "outputs": [],
   "source": []
  },
  {
   "cell_type": "markdown",
   "metadata": {
    "deletable": true,
    "editable": true
   },
   "source": [
    "Probeer nu een `RandomForestClassifier`. Presteert het beter?"
   ]
  },
  {
   "cell_type": "code",
   "execution_count": null,
   "metadata": {
    "collapsed": false,
    "deletable": true,
    "editable": true,
    "jupyter": {
     "outputs_hidden": false
    }
   },
   "outputs": [],
   "source": []
  },
  {
   "cell_type": "markdown",
   "metadata": {
    "deletable": true,
    "editable": true
   },
   "source": [
    "## SVM\n",
    "\n",
    "Probeer vervolgens `svm.SVC` te gebruiken met een lineaire kernel. Hoe verhoudt het zich tot de decision tree?"
   ]
  },
  {
   "cell_type": "code",
   "execution_count": null,
   "metadata": {
    "collapsed": false,
    "deletable": true,
    "editable": true,
    "jupyter": {
     "outputs_hidden": false
    }
   },
   "outputs": [],
   "source": []
  },
  {
   "cell_type": "code",
   "execution_count": null,
   "metadata": {
    "collapsed": false,
    "deletable": true,
    "editable": true,
    "jupyter": {
     "outputs_hidden": false
    }
   },
   "outputs": [],
   "source": []
  },
  {
   "cell_type": "markdown",
   "metadata": {
    "deletable": true,
    "editable": true
   },
   "source": [
    "## KNN\n",
    "Hoe zit het met K-Nearest-Neighbors? Hint: gebruik `neighbours.KNeighboursClassifier`. Begin met een K van 10. K is een voorbeeld van een hyperparameter - een parameter van het model zelf die mogelijk moet worden getuned voor de beste resultaten op basis van je specifieke dataset."
   ]
  },
  {
   "cell_type": "code",
   "execution_count": null,
   "metadata": {
    "collapsed": false,
    "deletable": true,
    "editable": true,
    "jupyter": {
     "outputs_hidden": false
    }
   },
   "outputs": [],
   "source": []
  },
  {
   "cell_type": "markdown",
   "metadata": {
    "deletable": true,
    "editable": true
   },
   "source": [
    "Het kiezen van K is lastig, dus we kunnen KNN niet weggooien voordat we verschillende waarden van K hebben geprobeerd. Schrijf een for-loop om KNN uit te voeren met K-waarden van 1 tot 50 en kijk of K een wezenlijk verschil maakt. Noteer de beste prestaties die je uit KNN kunt halen."
   ]
  },
  {
   "cell_type": "code",
   "execution_count": null,
   "metadata": {
    "collapsed": false,
    "deletable": true,
    "editable": true,
    "jupyter": {
     "outputs_hidden": false
    }
   },
   "outputs": [],
   "source": []
  },
  {
   "cell_type": "markdown",
   "metadata": {
    "deletable": true,
    "editable": true
   },
   "source": [
    "## Naive Bayes\n",
    "\n",
    "Probeer nu `naive_bayes.MultinomialNB`. Hoe verloopt de nauwkeurigheid ervan? Hint: je moet eerst `MinMaxScaler` gebruiken om de features te krijgen in het bereik dat `MultinomialNB` vereist."
   ]
  },
  {
   "cell_type": "code",
   "execution_count": null,
   "metadata": {
    "collapsed": false,
    "deletable": true,
    "editable": true,
    "jupyter": {
     "outputs_hidden": false
    }
   },
   "outputs": [],
   "source": []
  },
  {
   "cell_type": "markdown",
   "metadata": {
    "deletable": true,
    "editable": true
   },
   "source": [
    "## Terug naar SVM\n",
    "\n",
    "`svm.SVC` kan anders presteren met verschillende kernels. De keuze van de kernel is een voorbeeld van een 'hyperparamter'. Probeer de `rbf`, `sigmoid` en `poly` kernels en kijk wat de best presterende kernel is. Hebben we een nieuwe winnaar?"
   ]
  },
  {
   "cell_type": "code",
   "execution_count": null,
   "metadata": {
    "collapsed": false,
    "deletable": true,
    "editable": true,
    "jupyter": {
     "outputs_hidden": false
    }
   },
   "outputs": [],
   "source": []
  },
  {
   "cell_type": "code",
   "execution_count": null,
   "metadata": {
    "collapsed": false,
    "deletable": true,
    "editable": true,
    "jupyter": {
     "outputs_hidden": false
    }
   },
   "outputs": [],
   "source": []
  },
  {
   "cell_type": "code",
   "execution_count": null,
   "metadata": {
    "collapsed": false,
    "deletable": true,
    "editable": true,
    "jupyter": {
     "outputs_hidden": false
    }
   },
   "outputs": [],
   "source": []
  },
  {
   "cell_type": "markdown",
   "metadata": {},
   "source": [
    "## Logistic Regression\n",
    "\n",
    "We hebben al deze mooie technieken geprobeerd, maar in wezen is dit slechts een binair classificatieprobleem. Probeer Logisitic Regression, dat is een eenvoudige manier om dit soort zaken aan te pakken."
   ]
  },
  {
   "cell_type": "code",
   "execution_count": null,
   "metadata": {
    "collapsed": true,
    "jupyter": {
     "outputs_hidden": true
    }
   },
   "outputs": [],
   "source": []
  },
  {
   "cell_type": "code",
   "execution_count": null,
   "metadata": {
    "collapsed": true,
    "jupyter": {
     "outputs_hidden": true
    }
   },
   "outputs": [],
   "source": []
  },
  {
   "cell_type": "code",
   "execution_count": null,
   "metadata": {
    "collapsed": true,
    "jupyter": {
     "outputs_hidden": true
    }
   },
   "outputs": [],
   "source": []
  },
  {
   "cell_type": "markdown",
   "metadata": {
    "deletable": true,
    "editable": true
   },
   "source": [
    "## Hebben we een winnaar?\n",
    "\n",
    "Welk model en welke keuze van hyperparameters presteerde het beste? Deel gerust jouw resultaten!"
   ]
  },
  {
   "cell_type": "code",
   "execution_count": null,
   "metadata": {
    "deletable": true,
    "editable": true
   },
   "outputs": [],
   "source": []
  }
 ],
 "metadata": {
  "kernelspec": {
   "display_name": "Python 3",
   "language": "python",
   "name": "python3"
  },
  "language_info": {
   "codemirror_mode": {
    "name": "ipython",
    "version": 3
   },
   "file_extension": ".py",
   "mimetype": "text/x-python",
   "name": "python",
   "nbconvert_exporter": "python",
   "pygments_lexer": "ipython3",
   "version": "3.7.7"
  }
 },
 "nbformat": 4,
 "nbformat_minor": 4
}
